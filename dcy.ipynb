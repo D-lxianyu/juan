{
 "cells": [
  {
   "cell_type": "code",
   "execution_count": 1,
   "id": "0653a2b6",
   "metadata": {},
   "outputs": [],
   "source": [
    "import pandas as pd\n",
    "import numpy as np\n",
    "from sklearn import preprocessing\n",
    "import datetime\n",
    "import seaborn as sns\n",
    "import matplotlib.pyplot as plt\n",
    "plt.style.use('fivethirtyeight')\n",
    "from math import sqrt\n",
    "from sklearn.metrics import mean_squared_error, mean_absolute_error\n",
    "\n",
    "from sklearn.preprocessing import StandardScaler\n",
    "from sklearn.preprocessing import MinMaxScaler\n",
    "from matplotlib import gridspec"
   ]
  },
  {
   "cell_type": "code",
   "execution_count": 2,
   "id": "e0ea19fe",
   "metadata": {},
   "outputs": [],
   "source": [
    "# 字典编码函数\n",
    "def change_object_cols(se):\n",
    "    value = se.unique().tolist()\n",
    "    value.sort()\n",
    "    return se.map(pd.Series(range(len(value)),index=value)).values"
   ]
  },
  {
   "cell_type": "code",
   "execution_count": 50,
   "id": "51c2f001",
   "metadata": {
    "scrolled": false
   },
   "outputs": [
    {
     "data": {
      "text/html": [
       "<div>\n",
       "<style scoped>\n",
       "    .dataframe tbody tr th:only-of-type {\n",
       "        vertical-align: middle;\n",
       "    }\n",
       "\n",
       "    .dataframe tbody tr th {\n",
       "        vertical-align: top;\n",
       "    }\n",
       "\n",
       "    .dataframe thead th {\n",
       "        text-align: right;\n",
       "    }\n",
       "</style>\n",
       "<table border=\"1\" class=\"dataframe\">\n",
       "  <thead>\n",
       "    <tr style=\"text-align: right;\">\n",
       "      <th></th>\n",
       "      <th>Unnamed: 0</th>\n",
       "      <th>date</th>\n",
       "      <th>train_number</th>\n",
       "      <th>train_direction</th>\n",
       "      <th>station_name</th>\n",
       "      <th>station_order</th>\n",
       "      <th>scheduled_arrival_time</th>\n",
       "      <th>scheduled_departure_time</th>\n",
       "      <th>stop_time</th>\n",
       "      <th>actual_arrival_time</th>\n",
       "      <th>actual_departure_time</th>\n",
       "      <th>arrival_delay</th>\n",
       "      <th>departure_delay</th>\n",
       "      <th>wind</th>\n",
       "      <th>weather</th>\n",
       "      <th>temperature</th>\n",
       "      <th>major_holiday</th>\n",
       "    </tr>\n",
       "  </thead>\n",
       "  <tbody>\n",
       "    <tr>\n",
       "      <th>0</th>\n",
       "      <td>0</td>\n",
       "      <td>2019-10-08</td>\n",
       "      <td>G102</td>\n",
       "      <td>up</td>\n",
       "      <td>Shanghaihongqiao Railway Station</td>\n",
       "      <td>1</td>\n",
       "      <td>06:26:00</td>\n",
       "      <td>06:26:00</td>\n",
       "      <td>----</td>\n",
       "      <td>06:25:00</td>\n",
       "      <td>06:25:00</td>\n",
       "      <td>0</td>\n",
       "      <td>-1</td>\n",
       "      <td>gentle breeze from the NW</td>\n",
       "      <td>cloudy</td>\n",
       "      <td>21</td>\n",
       "      <td>False</td>\n",
       "    </tr>\n",
       "    <tr>\n",
       "      <th>1</th>\n",
       "      <td>1</td>\n",
       "      <td>2019-10-08</td>\n",
       "      <td>G102</td>\n",
       "      <td>up</td>\n",
       "      <td>Wuxidong Railway Station</td>\n",
       "      <td>2</td>\n",
       "      <td>06:54:00</td>\n",
       "      <td>06:56:00</td>\n",
       "      <td>2</td>\n",
       "      <td>06:54:00</td>\n",
       "      <td>06:55:00</td>\n",
       "      <td>0</td>\n",
       "      <td>-1</td>\n",
       "      <td>light winds from the N</td>\n",
       "      <td>cloudy</td>\n",
       "      <td>20</td>\n",
       "      <td>False</td>\n",
       "    </tr>\n",
       "    <tr>\n",
       "      <th>2</th>\n",
       "      <td>2</td>\n",
       "      <td>2019-10-08</td>\n",
       "      <td>G102</td>\n",
       "      <td>up</td>\n",
       "      <td>Changzhoubei Railway Station</td>\n",
       "      <td>3</td>\n",
       "      <td>07:13:00</td>\n",
       "      <td>07:15:00</td>\n",
       "      <td>2</td>\n",
       "      <td>07:12:00</td>\n",
       "      <td>07:14:00</td>\n",
       "      <td>-1</td>\n",
       "      <td>-1</td>\n",
       "      <td>gentle breeze from the E</td>\n",
       "      <td>overcast</td>\n",
       "      <td>20</td>\n",
       "      <td>False</td>\n",
       "    </tr>\n",
       "    <tr>\n",
       "      <th>3</th>\n",
       "      <td>3</td>\n",
       "      <td>2019-10-08</td>\n",
       "      <td>G102</td>\n",
       "      <td>up</td>\n",
       "      <td>Nanjingnan Railway Station</td>\n",
       "      <td>4</td>\n",
       "      <td>07:46:00</td>\n",
       "      <td>07:48:00</td>\n",
       "      <td>2</td>\n",
       "      <td>07:45:00</td>\n",
       "      <td>07:47:00</td>\n",
       "      <td>-1</td>\n",
       "      <td>-1</td>\n",
       "      <td>light winds from the NE</td>\n",
       "      <td>overcast</td>\n",
       "      <td>21</td>\n",
       "      <td>False</td>\n",
       "    </tr>\n",
       "    <tr>\n",
       "      <th>4</th>\n",
       "      <td>4</td>\n",
       "      <td>2019-10-08</td>\n",
       "      <td>G102</td>\n",
       "      <td>up</td>\n",
       "      <td>Chuzhou Railway Station</td>\n",
       "      <td>5</td>\n",
       "      <td>08:06:00</td>\n",
       "      <td>08:08:00</td>\n",
       "      <td>2</td>\n",
       "      <td>08:05:00</td>\n",
       "      <td>08:06:00</td>\n",
       "      <td>-1</td>\n",
       "      <td>-2</td>\n",
       "      <td>light winds from the NE</td>\n",
       "      <td>cloudy</td>\n",
       "      <td>21</td>\n",
       "      <td>False</td>\n",
       "    </tr>\n",
       "  </tbody>\n",
       "</table>\n",
       "</div>"
      ],
      "text/plain": [
       "   Unnamed: 0        date train_number train_direction  \\\n",
       "0           0  2019-10-08         G102              up   \n",
       "1           1  2019-10-08         G102              up   \n",
       "2           2  2019-10-08         G102              up   \n",
       "3           3  2019-10-08         G102              up   \n",
       "4           4  2019-10-08         G102              up   \n",
       "\n",
       "                       station_name  station_order scheduled_arrival_time  \\\n",
       "0  Shanghaihongqiao Railway Station              1               06:26:00   \n",
       "1          Wuxidong Railway Station              2               06:54:00   \n",
       "2      Changzhoubei Railway Station              3               07:13:00   \n",
       "3        Nanjingnan Railway Station              4               07:46:00   \n",
       "4           Chuzhou Railway Station              5               08:06:00   \n",
       "\n",
       "  scheduled_departure_time stop_time actual_arrival_time  \\\n",
       "0                 06:26:00      ----            06:25:00   \n",
       "1                 06:56:00         2            06:54:00   \n",
       "2                 07:15:00         2            07:12:00   \n",
       "3                 07:48:00         2            07:45:00   \n",
       "4                 08:08:00         2            08:05:00   \n",
       "\n",
       "  actual_departure_time  arrival_delay  departure_delay  \\\n",
       "0              06:25:00              0               -1   \n",
       "1              06:55:00              0               -1   \n",
       "2              07:14:00             -1               -1   \n",
       "3              07:47:00             -1               -1   \n",
       "4              08:06:00             -1               -2   \n",
       "\n",
       "                        wind   weather  temperature  major_holiday  \n",
       "0  gentle breeze from the NW    cloudy           21          False  \n",
       "1     light winds from the N    cloudy           20          False  \n",
       "2   gentle breeze from the E  overcast           20          False  \n",
       "3    light winds from the NE  overcast           21          False  \n",
       "4    light winds from the NE    cloudy           21          False  "
      ]
     },
     "execution_count": 50,
     "metadata": {},
     "output_type": "execute_result"
    }
   ],
   "source": [
    "df=pd.read_csv('jinghu.csv')\n",
    "df.head()"
   ]
  },
  {
   "cell_type": "markdown",
   "id": "263cac1f",
   "metadata": {},
   "source": [
    "风向和风拆开\n",
    "\n",
    "eg.gentle breeze from the E  -->\n",
    " - gentle breeze\n",
    " - the E"
   ]
  },
  {
   "cell_type": "code",
   "execution_count": 51,
   "id": "bf8f3e39",
   "metadata": {},
   "outputs": [],
   "source": [
    "df['wind']=df['wind'].apply(lambda x: x.split('from'))"
   ]
  },
  {
   "cell_type": "code",
   "execution_count": 52,
   "id": "dc7e70d3",
   "metadata": {},
   "outputs": [],
   "source": [
    "df['wind direction']=df['wind'].apply(lambda x: x[-1])"
   ]
  },
  {
   "cell_type": "code",
   "execution_count": 53,
   "id": "660034e6",
   "metadata": {},
   "outputs": [
    {
     "data": {
      "text/html": [
       "<div>\n",
       "<style scoped>\n",
       "    .dataframe tbody tr th:only-of-type {\n",
       "        vertical-align: middle;\n",
       "    }\n",
       "\n",
       "    .dataframe tbody tr th {\n",
       "        vertical-align: top;\n",
       "    }\n",
       "\n",
       "    .dataframe thead th {\n",
       "        text-align: right;\n",
       "    }\n",
       "</style>\n",
       "<table border=\"1\" class=\"dataframe\">\n",
       "  <thead>\n",
       "    <tr style=\"text-align: right;\">\n",
       "      <th></th>\n",
       "      <th>Unnamed: 0</th>\n",
       "      <th>date</th>\n",
       "      <th>train_number</th>\n",
       "      <th>train_direction</th>\n",
       "      <th>station_name</th>\n",
       "      <th>station_order</th>\n",
       "      <th>scheduled_arrival_time</th>\n",
       "      <th>scheduled_departure_time</th>\n",
       "      <th>stop_time</th>\n",
       "      <th>actual_arrival_time</th>\n",
       "      <th>actual_departure_time</th>\n",
       "      <th>arrival_delay</th>\n",
       "      <th>departure_delay</th>\n",
       "      <th>wind</th>\n",
       "      <th>weather</th>\n",
       "      <th>temperature</th>\n",
       "      <th>major_holiday</th>\n",
       "      <th>wind direction</th>\n",
       "    </tr>\n",
       "  </thead>\n",
       "  <tbody>\n",
       "    <tr>\n",
       "      <th>0</th>\n",
       "      <td>0</td>\n",
       "      <td>2019-10-08</td>\n",
       "      <td>G102</td>\n",
       "      <td>up</td>\n",
       "      <td>Shanghaihongqiao Railway Station</td>\n",
       "      <td>1</td>\n",
       "      <td>06:26:00</td>\n",
       "      <td>06:26:00</td>\n",
       "      <td>----</td>\n",
       "      <td>06:25:00</td>\n",
       "      <td>06:25:00</td>\n",
       "      <td>0</td>\n",
       "      <td>-1</td>\n",
       "      <td>gentle breeze</td>\n",
       "      <td>cloudy</td>\n",
       "      <td>21</td>\n",
       "      <td>False</td>\n",
       "      <td>the NW</td>\n",
       "    </tr>\n",
       "    <tr>\n",
       "      <th>1</th>\n",
       "      <td>1</td>\n",
       "      <td>2019-10-08</td>\n",
       "      <td>G102</td>\n",
       "      <td>up</td>\n",
       "      <td>Wuxidong Railway Station</td>\n",
       "      <td>2</td>\n",
       "      <td>06:54:00</td>\n",
       "      <td>06:56:00</td>\n",
       "      <td>2</td>\n",
       "      <td>06:54:00</td>\n",
       "      <td>06:55:00</td>\n",
       "      <td>0</td>\n",
       "      <td>-1</td>\n",
       "      <td>light winds</td>\n",
       "      <td>cloudy</td>\n",
       "      <td>20</td>\n",
       "      <td>False</td>\n",
       "      <td>the N</td>\n",
       "    </tr>\n",
       "    <tr>\n",
       "      <th>2</th>\n",
       "      <td>2</td>\n",
       "      <td>2019-10-08</td>\n",
       "      <td>G102</td>\n",
       "      <td>up</td>\n",
       "      <td>Changzhoubei Railway Station</td>\n",
       "      <td>3</td>\n",
       "      <td>07:13:00</td>\n",
       "      <td>07:15:00</td>\n",
       "      <td>2</td>\n",
       "      <td>07:12:00</td>\n",
       "      <td>07:14:00</td>\n",
       "      <td>-1</td>\n",
       "      <td>-1</td>\n",
       "      <td>gentle breeze</td>\n",
       "      <td>overcast</td>\n",
       "      <td>20</td>\n",
       "      <td>False</td>\n",
       "      <td>the E</td>\n",
       "    </tr>\n",
       "    <tr>\n",
       "      <th>3</th>\n",
       "      <td>3</td>\n",
       "      <td>2019-10-08</td>\n",
       "      <td>G102</td>\n",
       "      <td>up</td>\n",
       "      <td>Nanjingnan Railway Station</td>\n",
       "      <td>4</td>\n",
       "      <td>07:46:00</td>\n",
       "      <td>07:48:00</td>\n",
       "      <td>2</td>\n",
       "      <td>07:45:00</td>\n",
       "      <td>07:47:00</td>\n",
       "      <td>-1</td>\n",
       "      <td>-1</td>\n",
       "      <td>light winds</td>\n",
       "      <td>overcast</td>\n",
       "      <td>21</td>\n",
       "      <td>False</td>\n",
       "      <td>the NE</td>\n",
       "    </tr>\n",
       "    <tr>\n",
       "      <th>4</th>\n",
       "      <td>4</td>\n",
       "      <td>2019-10-08</td>\n",
       "      <td>G102</td>\n",
       "      <td>up</td>\n",
       "      <td>Chuzhou Railway Station</td>\n",
       "      <td>5</td>\n",
       "      <td>08:06:00</td>\n",
       "      <td>08:08:00</td>\n",
       "      <td>2</td>\n",
       "      <td>08:05:00</td>\n",
       "      <td>08:06:00</td>\n",
       "      <td>-1</td>\n",
       "      <td>-2</td>\n",
       "      <td>light winds</td>\n",
       "      <td>cloudy</td>\n",
       "      <td>21</td>\n",
       "      <td>False</td>\n",
       "      <td>the NE</td>\n",
       "    </tr>\n",
       "  </tbody>\n",
       "</table>\n",
       "</div>"
      ],
      "text/plain": [
       "   Unnamed: 0        date train_number train_direction  \\\n",
       "0           0  2019-10-08         G102              up   \n",
       "1           1  2019-10-08         G102              up   \n",
       "2           2  2019-10-08         G102              up   \n",
       "3           3  2019-10-08         G102              up   \n",
       "4           4  2019-10-08         G102              up   \n",
       "\n",
       "                       station_name  station_order scheduled_arrival_time  \\\n",
       "0  Shanghaihongqiao Railway Station              1               06:26:00   \n",
       "1          Wuxidong Railway Station              2               06:54:00   \n",
       "2      Changzhoubei Railway Station              3               07:13:00   \n",
       "3        Nanjingnan Railway Station              4               07:46:00   \n",
       "4           Chuzhou Railway Station              5               08:06:00   \n",
       "\n",
       "  scheduled_departure_time stop_time actual_arrival_time  \\\n",
       "0                 06:26:00      ----            06:25:00   \n",
       "1                 06:56:00         2            06:54:00   \n",
       "2                 07:15:00         2            07:12:00   \n",
       "3                 07:48:00         2            07:45:00   \n",
       "4                 08:08:00         2            08:05:00   \n",
       "\n",
       "  actual_departure_time  arrival_delay  departure_delay            wind  \\\n",
       "0              06:25:00              0               -1  gentle breeze    \n",
       "1              06:55:00              0               -1    light winds    \n",
       "2              07:14:00             -1               -1  gentle breeze    \n",
       "3              07:47:00             -1               -1    light winds    \n",
       "4              08:06:00             -1               -2    light winds    \n",
       "\n",
       "    weather  temperature  major_holiday wind direction  \n",
       "0    cloudy           21          False         the NW  \n",
       "1    cloudy           20          False          the N  \n",
       "2  overcast           20          False          the E  \n",
       "3  overcast           21          False         the NE  \n",
       "4    cloudy           21          False         the NE  "
      ]
     },
     "execution_count": 53,
     "metadata": {},
     "output_type": "execute_result"
    }
   ],
   "source": [
    "df['wind']=df['wind'].apply(lambda x: x[0])\n",
    "df.head()"
   ]
  },
  {
   "cell_type": "code",
   "execution_count": 54,
   "id": "a3cd8c52",
   "metadata": {},
   "outputs": [],
   "source": [
    "df['wind']=df['wind'].apply(lambda x: x.strip())"
   ]
  },
  {
   "cell_type": "code",
   "execution_count": 55,
   "id": "4fd9a021",
   "metadata": {},
   "outputs": [],
   "source": [
    "df['wind direction']=df['wind direction'].apply(lambda x: x.strip())"
   ]
  },
  {
   "cell_type": "markdown",
   "id": "fbe7d3ab",
   "metadata": {},
   "source": [
    "<hr>\n",
    "\n",
    "修改风级"
   ]
  },
  {
   "cell_type": "code",
   "execution_count": 56,
   "id": "95ef763e",
   "metadata": {},
   "outputs": [
    {
     "data": {
      "text/plain": [
       "light winds        34062\n",
       "gentle breeze      12298\n",
       "moderate breeze     3561\n",
       "fresh breeze         266\n",
       "strong breeze          4\n",
       "Name: wind, dtype: int64"
      ]
     },
     "execution_count": 56,
     "metadata": {},
     "output_type": "execute_result"
    }
   ],
   "source": [
    "df['wind'].value_counts()"
   ]
  },
  {
   "cell_type": "markdown",
   "id": "fda67067",
   "metadata": {},
   "source": [
    "一般的风 wind\n",
    "\n",
    "微风 breeze\n",
    "\n",
    "气象学上风的级别：\n",
    "- 0级：Calm （无风）\n",
    "- 1级：Light air（软风）\n",
    "- 2级：Light breeze （轻风）\n",
    "- 3级： Gentle breeze （微风）\n",
    "- 4级：Moderate breeze （和风）\n",
    "- 5级：Fresh breeze （清劲风）\n",
    "- 6级：Strong breeze （强风）\n",
    "- 7级：Moderategale (疾风)\n",
    "- 8级： Fresh gale （大风）\n",
    "- 9级：Strong gale （烈风）\n",
    "- 10级：Whole gale（狂风）\n",
    "- 11级：Storm (暴风）\n",
    "- 12级： Hurricane（台风，又名飓风）\n",
    "- 13级：TY （台风）\n",
    "- 14、15级：STY（强台风）\n",
    "- 16、17级：Super TY （超强台风）"
   ]
  },
  {
   "cell_type": "code",
   "execution_count": 57,
   "id": "c5709fe0",
   "metadata": {},
   "outputs": [],
   "source": [
    "def wind_level(x):\n",
    "    y = 0\n",
    "    if x == 'gentle breeze':\n",
    "        y = 0.25\n",
    "    elif x == 'moderate breeze':\n",
    "        y = 0.5\n",
    "    elif x == 'fresh breeze':\n",
    "        y = 0.75\n",
    "    elif x == 'strong breeze':\n",
    "        y = 1\n",
    "    return y"
   ]
  },
  {
   "cell_type": "code",
   "execution_count": 58,
   "id": "64e6c073",
   "metadata": {},
   "outputs": [
    {
     "data": {
      "text/plain": [
       "0.00    34062\n",
       "0.25    12298\n",
       "0.50     3561\n",
       "0.75      266\n",
       "1.00        4\n",
       "Name: wind, dtype: int64"
      ]
     },
     "execution_count": 58,
     "metadata": {},
     "output_type": "execute_result"
    }
   ],
   "source": [
    "df['wind']=df['wind'].apply(wind_level)\n",
    "df['wind'].value_counts()"
   ]
  },
  {
   "cell_type": "markdown",
   "id": "1f86bcf5",
   "metadata": {},
   "source": [
    "<hr>"
   ]
  },
  {
   "cell_type": "code",
   "execution_count": 59,
   "id": "51236f24",
   "metadata": {},
   "outputs": [
    {
     "data": {
      "text/plain": [
       "the N          11406\n",
       "the NE          9241\n",
       "the S           7443\n",
       "the NW          5826\n",
       "the E           5433\n",
       "the SW          3835\n",
       "the SE          3664\n",
       "the W           2122\n",
       "light winds     1221\n",
       "Name: wind direction, dtype: int64"
      ]
     },
     "execution_count": 59,
     "metadata": {},
     "output_type": "execute_result"
    }
   ],
   "source": [
    "df['wind direction'].value_counts()"
   ]
  },
  {
   "cell_type": "markdown",
   "id": "c82c472e",
   "metadata": {},
   "source": [
    "<hr>\n",
    "天气"
   ]
  },
  {
   "cell_type": "code",
   "execution_count": 60,
   "id": "2f404f70",
   "metadata": {},
   "outputs": [
    {
     "data": {
      "text/plain": [
       "sunny            18528\n",
       "cloudy           18122\n",
       "light rain        6597\n",
       "overcast          4772\n",
       "sleet              609\n",
       "moderate rain      523\n",
       "light snow         371\n",
       "fog                368\n",
       "haze               120\n",
       "heavy snow          91\n",
       "moderate snow       53\n",
       "showers             37\n",
       "Name: weather, dtype: int64"
      ]
     },
     "execution_count": 60,
     "metadata": {},
     "output_type": "execute_result"
    }
   ],
   "source": [
    "df['weather'].value_counts()"
   ]
  },
  {
   "cell_type": "code",
   "execution_count": 61,
   "id": "a2855670",
   "metadata": {},
   "outputs": [],
   "source": [
    "def weather_num(x):\n",
    "    weather = ['sunny','cloudy','overcast','sleet','light rain','light snow','haze',\n",
    "               'fog','moderate rain', 'moderate snow', 'showers','heavy snow']\n",
    "    if x in weather:\n",
    "        return weather.index(x)+1"
   ]
  },
  {
   "cell_type": "code",
   "execution_count": 62,
   "id": "ccd54634",
   "metadata": {},
   "outputs": [],
   "source": [
    "weather = df['weather'].apply(weather_num)"
   ]
  },
  {
   "cell_type": "code",
   "execution_count": 63,
   "id": "b908549d",
   "metadata": {},
   "outputs": [
    {
     "data": {
      "text/plain": [
       "1     18528\n",
       "2     18122\n",
       "5      6597\n",
       "3      4772\n",
       "4       609\n",
       "9       523\n",
       "6       371\n",
       "8       368\n",
       "7       120\n",
       "12       91\n",
       "10       53\n",
       "11       37\n",
       "Name: weather, dtype: int64"
      ]
     },
     "execution_count": 63,
     "metadata": {},
     "output_type": "execute_result"
    }
   ],
   "source": [
    "weather.value_counts()"
   ]
  },
  {
   "cell_type": "code",
   "execution_count": 64,
   "id": "292542f5",
   "metadata": {},
   "outputs": [],
   "source": [
    "def weather_level(x):\n",
    "    x = int(x)\n",
    "    y = 0.0\n",
    "    if x == 1:\n",
    "        y = 0.0\n",
    "    elif x == 12:\n",
    "        y = 1.0\n",
    "    else:\n",
    "        y = (x - 1)/11\n",
    "    return y"
   ]
  },
  {
   "cell_type": "code",
   "execution_count": 65,
   "id": "bcb43586",
   "metadata": {},
   "outputs": [
    {
     "data": {
      "text/plain": [
       "0.000000    18528\n",
       "0.090909    18122\n",
       "0.363636     6597\n",
       "0.181818     4772\n",
       "0.272727      609\n",
       "0.727273      523\n",
       "0.454545      371\n",
       "0.636364      368\n",
       "0.545455      120\n",
       "1.000000       91\n",
       "0.818182       53\n",
       "0.909091       37\n",
       "Name: weather, dtype: int64"
      ]
     },
     "execution_count": 65,
     "metadata": {},
     "output_type": "execute_result"
    }
   ],
   "source": [
    "weather_level = weather.apply(weather_level)\n",
    "weather_level.value_counts()"
   ]
  },
  {
   "cell_type": "code",
   "execution_count": 66,
   "id": "15472015",
   "metadata": {},
   "outputs": [],
   "source": [
    "df['weather'] = weather_level"
   ]
  },
  {
   "cell_type": "markdown",
   "id": "2e697381",
   "metadata": {},
   "source": [
    "<hr>"
   ]
  },
  {
   "cell_type": "code",
   "execution_count": 67,
   "id": "101fd948",
   "metadata": {},
   "outputs": [
    {
     "data": {
      "text/plain": [
       "up    50191\n",
       "Name: train_direction, dtype: int64"
      ]
     },
     "execution_count": 67,
     "metadata": {},
     "output_type": "execute_result"
    }
   ],
   "source": [
    "df['train_direction'].value_counts() # 删除这个特征"
   ]
  },
  {
   "cell_type": "code",
   "execution_count": 68,
   "id": "4d35e482",
   "metadata": {},
   "outputs": [
    {
     "data": {
      "text/plain": [
       "count    50191.000000\n",
       "mean        12.913032\n",
       "std          6.989936\n",
       "min         -4.000000\n",
       "25%          7.000000\n",
       "50%         12.000000\n",
       "75%         19.000000\n",
       "max         28.000000\n",
       "Name: temperature, dtype: float64"
      ]
     },
     "execution_count": 68,
     "metadata": {},
     "output_type": "execute_result"
    }
   ],
   "source": [
    "df['temperature'].describe()"
   ]
  },
  {
   "cell_type": "code",
   "execution_count": 69,
   "id": "a7565623",
   "metadata": {
    "scrolled": false
   },
   "outputs": [
    {
     "name": "stdout",
     "output_type": "stream",
     "text": [
      "<class 'pandas.core.frame.DataFrame'>\n",
      "RangeIndex: 50191 entries, 0 to 50190\n",
      "Data columns (total 18 columns):\n",
      " #   Column                    Non-Null Count  Dtype  \n",
      "---  ------                    --------------  -----  \n",
      " 0   Unnamed: 0                50191 non-null  int64  \n",
      " 1   date                      50191 non-null  object \n",
      " 2   train_number              50191 non-null  object \n",
      " 3   train_direction           50191 non-null  object \n",
      " 4   station_name              50191 non-null  object \n",
      " 5   station_order             50191 non-null  int64  \n",
      " 6   scheduled_arrival_time    50191 non-null  object \n",
      " 7   scheduled_departure_time  50191 non-null  object \n",
      " 8   stop_time                 50191 non-null  object \n",
      " 9   actual_arrival_time       50191 non-null  object \n",
      " 10  actual_departure_time     50191 non-null  object \n",
      " 11  arrival_delay             50191 non-null  int64  \n",
      " 12  departure_delay           50191 non-null  int64  \n",
      " 13  wind                      50191 non-null  float64\n",
      " 14  weather                   50191 non-null  float64\n",
      " 15  temperature               50191 non-null  int64  \n",
      " 16  major_holiday             50191 non-null  bool   \n",
      " 17  wind direction            50191 non-null  object \n",
      "dtypes: bool(1), float64(2), int64(5), object(10)\n",
      "memory usage: 6.6+ MB\n"
     ]
    }
   ],
   "source": [
    "df.info()"
   ]
  },
  {
   "cell_type": "markdown",
   "id": "be16f8b5",
   "metadata": {},
   "source": [
    "<hr>\n",
    "时间"
   ]
  },
  {
   "cell_type": "code",
   "execution_count": 70,
   "id": "b5699747",
   "metadata": {
    "scrolled": true
   },
   "outputs": [
    {
     "data": {
      "text/plain": [
       "0    [2019, 10, 08]\n",
       "1    [2019, 10, 08]\n",
       "2    [2019, 10, 08]\n",
       "3    [2019, 10, 08]\n",
       "4    [2019, 10, 08]\n",
       "Name: date, dtype: object"
      ]
     },
     "execution_count": 70,
     "metadata": {},
     "output_type": "execute_result"
    }
   ],
   "source": [
    "date = df['date'].apply(lambda x: x.split('-'))\n",
    "date.head()"
   ]
  },
  {
   "cell_type": "code",
   "execution_count": 71,
   "id": "8931dcc9",
   "metadata": {},
   "outputs": [
    {
     "data": {
      "text/plain": [
       "0    10\n",
       "1    10\n",
       "2    10\n",
       "3    10\n",
       "4    10\n",
       "Name: date, dtype: object"
      ]
     },
     "execution_count": 71,
     "metadata": {},
     "output_type": "execute_result"
    }
   ],
   "source": [
    "# 月份\n",
    "mounth = date.apply(lambda x: x[1])\n",
    "mounth.head()"
   ]
  },
  {
   "cell_type": "code",
   "execution_count": 72,
   "id": "ef7c6a76",
   "metadata": {},
   "outputs": [
    {
     "data": {
      "text/plain": [
       "0    0\n",
       "1    0\n",
       "2    0\n",
       "3    0\n",
       "4    0\n",
       "Name: date, dtype: int64"
      ]
     },
     "execution_count": 72,
     "metadata": {},
     "output_type": "execute_result"
    }
   ],
   "source": [
    "# 工作日5天用0表示，休息日（周六周日）表示为1  # 不需要了x\n",
    "day = df['date'].apply(lambda x: datetime.datetime.strptime(x.split(\" \")[0], \"%Y-%m-%d\").weekday())//5\n",
    "day.head()"
   ]
  },
  {
   "cell_type": "code",
   "execution_count": 73,
   "id": "4757c657",
   "metadata": {},
   "outputs": [
    {
     "data": {
      "text/plain": [
       "0    2019-10-08\n",
       "1    2019-10-08\n",
       "2    2019-10-08\n",
       "3    2019-10-08\n",
       "4    2019-10-08\n",
       "Name: date, dtype: object"
      ]
     },
     "execution_count": 73,
     "metadata": {},
     "output_type": "execute_result"
    }
   ],
   "source": [
    "# 将字符串date转为datetime格式\n",
    "date = df['date'].apply(lambda x:datetime.date(*map(int, x.split('-'))))\n",
    "date.head()"
   ]
  },
  {
   "cell_type": "code",
   "execution_count": 74,
   "id": "8acd2a87",
   "metadata": {},
   "outputs": [],
   "source": [
    "# 将datetime格式转换为pd.datetime格式\n",
    "date = pd.to_datetime(date, errors='coerce')"
   ]
  },
  {
   "cell_type": "code",
   "execution_count": 75,
   "id": "55747a7d",
   "metadata": {},
   "outputs": [],
   "source": [
    "dayofweek = date.dt.dayofweek\n",
    "dayofyear = date.dt.dayofyear"
   ]
  },
  {
   "cell_type": "code",
   "execution_count": 76,
   "id": "df53edc5",
   "metadata": {},
   "outputs": [],
   "source": [
    "# 时间段（上午、下午、晚上、凌晨）的信息提取。\n",
    "hour_section = df['scheduled_arrival_time'].apply(lambda x: x.split(':')[0]).astype(int)//6"
   ]
  },
  {
   "cell_type": "code",
   "execution_count": 77,
   "id": "a8cb08c7",
   "metadata": {},
   "outputs": [],
   "source": [
    "df['mounth']=mounth\n",
    "df['dayofweek']=dayofweek\n",
    "df['hour_section']=hour_section"
   ]
  },
  {
   "cell_type": "markdown",
   "id": "65567d7e",
   "metadata": {},
   "source": [
    "<hr>\n",
    "车站1 -- one hot\n",
    "\n",
    "车站处理二选一！！！！"
   ]
  },
  {
   "cell_type": "code",
   "execution_count": 31,
   "id": "a0fc7e39",
   "metadata": {},
   "outputs": [
    {
     "name": "stdout",
     "output_type": "stream",
     "text": [
      "                           station_name\n",
      "0      Shanghaihongqiao Railway Station\n",
      "1              Wuxidong Railway Station\n",
      "2          Changzhoubei Railway Station\n",
      "3            Nanjingnan Railway Station\n",
      "4               Chuzhou Railway Station\n",
      "...                                 ...\n",
      "50186         Bangbunan Railway Station\n",
      "50187        Xuzhoudong Railway Station\n",
      "50188           Jinanxi Railway Station\n",
      "50189        Dezhoudong Railway Station\n",
      "50190         Tianjinxi Railway Station\n",
      "\n",
      "[50191 rows x 1 columns]\n",
      "[[0. 0. 0. ... 0. 0. 0.]\n",
      " [0. 0. 0. ... 0. 0. 0.]\n",
      " [0. 0. 0. ... 0. 0. 0.]\n",
      " ...\n",
      " [0. 0. 0. ... 0. 0. 0.]\n",
      " [0. 0. 0. ... 0. 0. 0.]\n",
      " [0. 0. 0. ... 0. 0. 0.]]\n"
     ]
    }
   ],
   "source": [
    "from sklearn.preprocessing import OneHotEncoder\n",
    "\n",
    "#进行one-hot编码\n",
    "tempdata = df[['station_name']]\n",
    "print(tempdata)\n",
    "enc = OneHotEncoder()\n",
    "enc.fit(tempdata)\n",
    "\n",
    "#one-hot编码的结果是比较奇怪的，最好是先转换成二维数组\n",
    "tempdata = enc.transform(tempdata).toarray()\n",
    "print(tempdata)\n",
    "\n",
    "#再将二维数组转换为DataFrame，记得这里会变成多列\n",
    "tempdata = pd.DataFrame(tempdata)"
   ]
  },
  {
   "cell_type": "code",
   "execution_count": 32,
   "id": "2344b2f7",
   "metadata": {},
   "outputs": [
    {
     "data": {
      "text/html": [
       "<div>\n",
       "<style scoped>\n",
       "    .dataframe tbody tr th:only-of-type {\n",
       "        vertical-align: middle;\n",
       "    }\n",
       "\n",
       "    .dataframe tbody tr th {\n",
       "        vertical-align: top;\n",
       "    }\n",
       "\n",
       "    .dataframe thead th {\n",
       "        text-align: right;\n",
       "    }\n",
       "</style>\n",
       "<table border=\"1\" class=\"dataframe\">\n",
       "  <thead>\n",
       "    <tr style=\"text-align: right;\">\n",
       "      <th></th>\n",
       "      <th>0</th>\n",
       "      <th>1</th>\n",
       "      <th>2</th>\n",
       "      <th>3</th>\n",
       "      <th>4</th>\n",
       "      <th>5</th>\n",
       "      <th>6</th>\n",
       "      <th>7</th>\n",
       "      <th>8</th>\n",
       "      <th>9</th>\n",
       "      <th>...</th>\n",
       "      <th>13</th>\n",
       "      <th>14</th>\n",
       "      <th>15</th>\n",
       "      <th>16</th>\n",
       "      <th>17</th>\n",
       "      <th>18</th>\n",
       "      <th>19</th>\n",
       "      <th>20</th>\n",
       "      <th>21</th>\n",
       "      <th>22</th>\n",
       "    </tr>\n",
       "  </thead>\n",
       "  <tbody>\n",
       "    <tr>\n",
       "      <th>0</th>\n",
       "      <td>0.0</td>\n",
       "      <td>0.0</td>\n",
       "      <td>0.0</td>\n",
       "      <td>0.0</td>\n",
       "      <td>0.0</td>\n",
       "      <td>0.0</td>\n",
       "      <td>0.0</td>\n",
       "      <td>0.0</td>\n",
       "      <td>0.0</td>\n",
       "      <td>0.0</td>\n",
       "      <td>...</td>\n",
       "      <td>1.0</td>\n",
       "      <td>0.0</td>\n",
       "      <td>0.0</td>\n",
       "      <td>0.0</td>\n",
       "      <td>0.0</td>\n",
       "      <td>0.0</td>\n",
       "      <td>0.0</td>\n",
       "      <td>0.0</td>\n",
       "      <td>0.0</td>\n",
       "      <td>0.0</td>\n",
       "    </tr>\n",
       "    <tr>\n",
       "      <th>1</th>\n",
       "      <td>0.0</td>\n",
       "      <td>0.0</td>\n",
       "      <td>0.0</td>\n",
       "      <td>0.0</td>\n",
       "      <td>0.0</td>\n",
       "      <td>0.0</td>\n",
       "      <td>0.0</td>\n",
       "      <td>0.0</td>\n",
       "      <td>0.0</td>\n",
       "      <td>0.0</td>\n",
       "      <td>...</td>\n",
       "      <td>0.0</td>\n",
       "      <td>0.0</td>\n",
       "      <td>0.0</td>\n",
       "      <td>0.0</td>\n",
       "      <td>0.0</td>\n",
       "      <td>0.0</td>\n",
       "      <td>1.0</td>\n",
       "      <td>0.0</td>\n",
       "      <td>0.0</td>\n",
       "      <td>0.0</td>\n",
       "    </tr>\n",
       "    <tr>\n",
       "      <th>2</th>\n",
       "      <td>0.0</td>\n",
       "      <td>0.0</td>\n",
       "      <td>0.0</td>\n",
       "      <td>1.0</td>\n",
       "      <td>0.0</td>\n",
       "      <td>0.0</td>\n",
       "      <td>0.0</td>\n",
       "      <td>0.0</td>\n",
       "      <td>0.0</td>\n",
       "      <td>0.0</td>\n",
       "      <td>...</td>\n",
       "      <td>0.0</td>\n",
       "      <td>0.0</td>\n",
       "      <td>0.0</td>\n",
       "      <td>0.0</td>\n",
       "      <td>0.0</td>\n",
       "      <td>0.0</td>\n",
       "      <td>0.0</td>\n",
       "      <td>0.0</td>\n",
       "      <td>0.0</td>\n",
       "      <td>0.0</td>\n",
       "    </tr>\n",
       "    <tr>\n",
       "      <th>3</th>\n",
       "      <td>0.0</td>\n",
       "      <td>0.0</td>\n",
       "      <td>0.0</td>\n",
       "      <td>0.0</td>\n",
       "      <td>0.0</td>\n",
       "      <td>0.0</td>\n",
       "      <td>0.0</td>\n",
       "      <td>0.0</td>\n",
       "      <td>0.0</td>\n",
       "      <td>0.0</td>\n",
       "      <td>...</td>\n",
       "      <td>0.0</td>\n",
       "      <td>0.0</td>\n",
       "      <td>0.0</td>\n",
       "      <td>0.0</td>\n",
       "      <td>0.0</td>\n",
       "      <td>0.0</td>\n",
       "      <td>0.0</td>\n",
       "      <td>0.0</td>\n",
       "      <td>0.0</td>\n",
       "      <td>0.0</td>\n",
       "    </tr>\n",
       "    <tr>\n",
       "      <th>4</th>\n",
       "      <td>0.0</td>\n",
       "      <td>0.0</td>\n",
       "      <td>0.0</td>\n",
       "      <td>0.0</td>\n",
       "      <td>1.0</td>\n",
       "      <td>0.0</td>\n",
       "      <td>0.0</td>\n",
       "      <td>0.0</td>\n",
       "      <td>0.0</td>\n",
       "      <td>0.0</td>\n",
       "      <td>...</td>\n",
       "      <td>0.0</td>\n",
       "      <td>0.0</td>\n",
       "      <td>0.0</td>\n",
       "      <td>0.0</td>\n",
       "      <td>0.0</td>\n",
       "      <td>0.0</td>\n",
       "      <td>0.0</td>\n",
       "      <td>0.0</td>\n",
       "      <td>0.0</td>\n",
       "      <td>0.0</td>\n",
       "    </tr>\n",
       "  </tbody>\n",
       "</table>\n",
       "<p>5 rows × 23 columns</p>\n",
       "</div>"
      ],
      "text/plain": [
       "    0    1    2    3    4    5    6    7    8    9   ...   13   14   15   16  \\\n",
       "0  0.0  0.0  0.0  0.0  0.0  0.0  0.0  0.0  0.0  0.0  ...  1.0  0.0  0.0  0.0   \n",
       "1  0.0  0.0  0.0  0.0  0.0  0.0  0.0  0.0  0.0  0.0  ...  0.0  0.0  0.0  0.0   \n",
       "2  0.0  0.0  0.0  1.0  0.0  0.0  0.0  0.0  0.0  0.0  ...  0.0  0.0  0.0  0.0   \n",
       "3  0.0  0.0  0.0  0.0  0.0  0.0  0.0  0.0  0.0  0.0  ...  0.0  0.0  0.0  0.0   \n",
       "4  0.0  0.0  0.0  0.0  1.0  0.0  0.0  0.0  0.0  0.0  ...  0.0  0.0  0.0  0.0   \n",
       "\n",
       "    17   18   19   20   21   22  \n",
       "0  0.0  0.0  0.0  0.0  0.0  0.0  \n",
       "1  0.0  0.0  1.0  0.0  0.0  0.0  \n",
       "2  0.0  0.0  0.0  0.0  0.0  0.0  \n",
       "3  0.0  0.0  0.0  0.0  0.0  0.0  \n",
       "4  0.0  0.0  0.0  0.0  0.0  0.0  \n",
       "\n",
       "[5 rows x 23 columns]"
      ]
     },
     "execution_count": 32,
     "metadata": {},
     "output_type": "execute_result"
    }
   ],
   "source": [
    "tempdata.head()"
   ]
  },
  {
   "cell_type": "code",
   "execution_count": 33,
   "id": "8aa117a5",
   "metadata": {},
   "outputs": [
    {
     "data": {
      "text/plain": [
       "(50191, 44)"
      ]
     },
     "execution_count": 33,
     "metadata": {},
     "output_type": "execute_result"
    }
   ],
   "source": [
    "df=pd.concat([df,tempdata],axis=1)\n",
    "df.shape"
   ]
  },
  {
   "cell_type": "code",
   "execution_count": 34,
   "id": "25e12e82",
   "metadata": {
    "scrolled": true
   },
   "outputs": [
    {
     "data": {
      "text/html": [
       "<div>\n",
       "<style scoped>\n",
       "    .dataframe tbody tr th:only-of-type {\n",
       "        vertical-align: middle;\n",
       "    }\n",
       "\n",
       "    .dataframe tbody tr th {\n",
       "        vertical-align: top;\n",
       "    }\n",
       "\n",
       "    .dataframe thead th {\n",
       "        text-align: right;\n",
       "    }\n",
       "</style>\n",
       "<table border=\"1\" class=\"dataframe\">\n",
       "  <thead>\n",
       "    <tr style=\"text-align: right;\">\n",
       "      <th></th>\n",
       "      <th>Unnamed: 0</th>\n",
       "      <th>date</th>\n",
       "      <th>train_number</th>\n",
       "      <th>train_direction</th>\n",
       "      <th>station_name</th>\n",
       "      <th>station_order</th>\n",
       "      <th>scheduled_arrival_time</th>\n",
       "      <th>scheduled_departure_time</th>\n",
       "      <th>stop_time</th>\n",
       "      <th>actual_arrival_time</th>\n",
       "      <th>...</th>\n",
       "      <th>13</th>\n",
       "      <th>14</th>\n",
       "      <th>15</th>\n",
       "      <th>16</th>\n",
       "      <th>17</th>\n",
       "      <th>18</th>\n",
       "      <th>19</th>\n",
       "      <th>20</th>\n",
       "      <th>21</th>\n",
       "      <th>22</th>\n",
       "    </tr>\n",
       "  </thead>\n",
       "  <tbody>\n",
       "    <tr>\n",
       "      <th>0</th>\n",
       "      <td>0</td>\n",
       "      <td>2019-10-08</td>\n",
       "      <td>G102</td>\n",
       "      <td>up</td>\n",
       "      <td>Shanghaihongqiao Railway Station</td>\n",
       "      <td>1</td>\n",
       "      <td>06:26:00</td>\n",
       "      <td>06:26:00</td>\n",
       "      <td>----</td>\n",
       "      <td>06:25:00</td>\n",
       "      <td>...</td>\n",
       "      <td>1.0</td>\n",
       "      <td>0.0</td>\n",
       "      <td>0.0</td>\n",
       "      <td>0.0</td>\n",
       "      <td>0.0</td>\n",
       "      <td>0.0</td>\n",
       "      <td>0.0</td>\n",
       "      <td>0.0</td>\n",
       "      <td>0.0</td>\n",
       "      <td>0.0</td>\n",
       "    </tr>\n",
       "    <tr>\n",
       "      <th>1</th>\n",
       "      <td>1</td>\n",
       "      <td>2019-10-08</td>\n",
       "      <td>G102</td>\n",
       "      <td>up</td>\n",
       "      <td>Wuxidong Railway Station</td>\n",
       "      <td>2</td>\n",
       "      <td>06:54:00</td>\n",
       "      <td>06:56:00</td>\n",
       "      <td>2</td>\n",
       "      <td>06:54:00</td>\n",
       "      <td>...</td>\n",
       "      <td>0.0</td>\n",
       "      <td>0.0</td>\n",
       "      <td>0.0</td>\n",
       "      <td>0.0</td>\n",
       "      <td>0.0</td>\n",
       "      <td>0.0</td>\n",
       "      <td>1.0</td>\n",
       "      <td>0.0</td>\n",
       "      <td>0.0</td>\n",
       "      <td>0.0</td>\n",
       "    </tr>\n",
       "    <tr>\n",
       "      <th>2</th>\n",
       "      <td>2</td>\n",
       "      <td>2019-10-08</td>\n",
       "      <td>G102</td>\n",
       "      <td>up</td>\n",
       "      <td>Changzhoubei Railway Station</td>\n",
       "      <td>3</td>\n",
       "      <td>07:13:00</td>\n",
       "      <td>07:15:00</td>\n",
       "      <td>2</td>\n",
       "      <td>07:12:00</td>\n",
       "      <td>...</td>\n",
       "      <td>0.0</td>\n",
       "      <td>0.0</td>\n",
       "      <td>0.0</td>\n",
       "      <td>0.0</td>\n",
       "      <td>0.0</td>\n",
       "      <td>0.0</td>\n",
       "      <td>0.0</td>\n",
       "      <td>0.0</td>\n",
       "      <td>0.0</td>\n",
       "      <td>0.0</td>\n",
       "    </tr>\n",
       "    <tr>\n",
       "      <th>3</th>\n",
       "      <td>3</td>\n",
       "      <td>2019-10-08</td>\n",
       "      <td>G102</td>\n",
       "      <td>up</td>\n",
       "      <td>Nanjingnan Railway Station</td>\n",
       "      <td>4</td>\n",
       "      <td>07:46:00</td>\n",
       "      <td>07:48:00</td>\n",
       "      <td>2</td>\n",
       "      <td>07:45:00</td>\n",
       "      <td>...</td>\n",
       "      <td>0.0</td>\n",
       "      <td>0.0</td>\n",
       "      <td>0.0</td>\n",
       "      <td>0.0</td>\n",
       "      <td>0.0</td>\n",
       "      <td>0.0</td>\n",
       "      <td>0.0</td>\n",
       "      <td>0.0</td>\n",
       "      <td>0.0</td>\n",
       "      <td>0.0</td>\n",
       "    </tr>\n",
       "    <tr>\n",
       "      <th>4</th>\n",
       "      <td>4</td>\n",
       "      <td>2019-10-08</td>\n",
       "      <td>G102</td>\n",
       "      <td>up</td>\n",
       "      <td>Chuzhou Railway Station</td>\n",
       "      <td>5</td>\n",
       "      <td>08:06:00</td>\n",
       "      <td>08:08:00</td>\n",
       "      <td>2</td>\n",
       "      <td>08:05:00</td>\n",
       "      <td>...</td>\n",
       "      <td>0.0</td>\n",
       "      <td>0.0</td>\n",
       "      <td>0.0</td>\n",
       "      <td>0.0</td>\n",
       "      <td>0.0</td>\n",
       "      <td>0.0</td>\n",
       "      <td>0.0</td>\n",
       "      <td>0.0</td>\n",
       "      <td>0.0</td>\n",
       "      <td>0.0</td>\n",
       "    </tr>\n",
       "  </tbody>\n",
       "</table>\n",
       "<p>5 rows × 44 columns</p>\n",
       "</div>"
      ],
      "text/plain": [
       "   Unnamed: 0        date train_number train_direction  \\\n",
       "0           0  2019-10-08         G102              up   \n",
       "1           1  2019-10-08         G102              up   \n",
       "2           2  2019-10-08         G102              up   \n",
       "3           3  2019-10-08         G102              up   \n",
       "4           4  2019-10-08         G102              up   \n",
       "\n",
       "                       station_name  station_order scheduled_arrival_time  \\\n",
       "0  Shanghaihongqiao Railway Station              1               06:26:00   \n",
       "1          Wuxidong Railway Station              2               06:54:00   \n",
       "2      Changzhoubei Railway Station              3               07:13:00   \n",
       "3        Nanjingnan Railway Station              4               07:46:00   \n",
       "4           Chuzhou Railway Station              5               08:06:00   \n",
       "\n",
       "  scheduled_departure_time stop_time actual_arrival_time  ...   13   14   15  \\\n",
       "0                 06:26:00      ----            06:25:00  ...  1.0  0.0  0.0   \n",
       "1                 06:56:00         2            06:54:00  ...  0.0  0.0  0.0   \n",
       "2                 07:15:00         2            07:12:00  ...  0.0  0.0  0.0   \n",
       "3                 07:48:00         2            07:45:00  ...  0.0  0.0  0.0   \n",
       "4                 08:08:00         2            08:05:00  ...  0.0  0.0  0.0   \n",
       "\n",
       "    16   17   18   19   20   21   22  \n",
       "0  0.0  0.0  0.0  0.0  0.0  0.0  0.0  \n",
       "1  0.0  0.0  0.0  1.0  0.0  0.0  0.0  \n",
       "2  0.0  0.0  0.0  0.0  0.0  0.0  0.0  \n",
       "3  0.0  0.0  0.0  0.0  0.0  0.0  0.0  \n",
       "4  0.0  0.0  0.0  0.0  0.0  0.0  0.0  \n",
       "\n",
       "[5 rows x 44 columns]"
      ]
     },
     "execution_count": 34,
     "metadata": {},
     "output_type": "execute_result"
    }
   ],
   "source": [
    "df.head()"
   ]
  },
  {
   "cell_type": "markdown",
   "id": "ba829a25",
   "metadata": {},
   "source": [
    "车站2 -- 数字"
   ]
  },
  {
   "cell_type": "code",
   "execution_count": 78,
   "id": "6f9ac056",
   "metadata": {},
   "outputs": [
    {
     "data": {
      "text/plain": [
       "array([13, 19,  3, ...,  8,  6, 18], dtype=int64)"
      ]
     },
     "execution_count": 78,
     "metadata": {},
     "output_type": "execute_result"
    }
   ],
   "source": [
    "station_num = change_object_cols(df['station_name'])\n",
    "station_num"
   ]
  },
  {
   "cell_type": "code",
   "execution_count": 79,
   "id": "24b98535",
   "metadata": {},
   "outputs": [],
   "source": [
    "df['station_num']=station_num"
   ]
  },
  {
   "cell_type": "markdown",
   "id": "c373f491",
   "metadata": {},
   "source": [
    "<hr>\n",
    "保存CSV"
   ]
  },
  {
   "cell_type": "code",
   "execution_count": 83,
   "id": "11dada82",
   "metadata": {},
   "outputs": [
    {
     "data": {
      "text/plain": [
       "Index(['Unnamed: 0', 'date', 'train_number', 'train_direction', 'station_name',\n",
       "       'station_order', 'scheduled_arrival_time', 'scheduled_departure_time',\n",
       "       'stop_time', 'actual_arrival_time', 'actual_departure_time',\n",
       "       'arrival_delay', 'departure_delay', 'wind', 'weather', 'temperature',\n",
       "       'major_holiday', 'wind direction', 'mounth', 'dayofweek',\n",
       "       'hour_section', 'station_num'],\n",
       "      dtype='object')"
      ]
     },
     "execution_count": 83,
     "metadata": {},
     "output_type": "execute_result"
    }
   ],
   "source": [
    "df.columns"
   ]
  },
  {
   "cell_type": "code",
   "execution_count": 84,
   "id": "24e044e8",
   "metadata": {},
   "outputs": [
    {
     "data": {
      "text/plain": [
       "(50190, 11)"
      ]
     },
     "execution_count": 84,
     "metadata": {},
     "output_type": "execute_result"
    }
   ],
   "source": [
    "df = df.drop(columns=['Unnamed: 0', 'date', 'train_direction','station_name','scheduled_arrival_time', 'scheduled_departure_time',\n",
    "       'stop_time', 'actual_arrival_time', 'actual_departure_time','departure_delay', 'wind direction'])\n",
    "df.shape"
   ]
  },
  {
   "cell_type": "code",
   "execution_count": 85,
   "id": "56170b5c",
   "metadata": {},
   "outputs": [],
   "source": [
    "df = df.drop(columns=['train_number'])"
   ]
  },
  {
   "cell_type": "code",
   "execution_count": 86,
   "id": "4ec75d0c",
   "metadata": {},
   "outputs": [],
   "source": [
    "df.to_csv('temp.csv') # best"
   ]
  },
  {
   "cell_type": "markdown",
   "id": "9ae1898a",
   "metadata": {},
   "source": [
    "<hr>\n",
    "归一化"
   ]
  },
  {
   "cell_type": "code",
   "execution_count": 22,
   "id": "3af6f968",
   "metadata": {},
   "outputs": [
    {
     "data": {
      "text/html": [
       "<div>\n",
       "<style scoped>\n",
       "    .dataframe tbody tr th:only-of-type {\n",
       "        vertical-align: middle;\n",
       "    }\n",
       "\n",
       "    .dataframe tbody tr th {\n",
       "        vertical-align: top;\n",
       "    }\n",
       "\n",
       "    .dataframe thead th {\n",
       "        text-align: right;\n",
       "    }\n",
       "</style>\n",
       "<table border=\"1\" class=\"dataframe\">\n",
       "  <thead>\n",
       "    <tr style=\"text-align: right;\">\n",
       "      <th></th>\n",
       "      <th>station_order</th>\n",
       "      <th>arrival_delay</th>\n",
       "      <th>wind</th>\n",
       "      <th>weather</th>\n",
       "      <th>temperature</th>\n",
       "      <th>major_holiday</th>\n",
       "      <th>mounth</th>\n",
       "      <th>dayofweek</th>\n",
       "      <th>hour_section</th>\n",
       "      <th>station_num</th>\n",
       "    </tr>\n",
       "  </thead>\n",
       "  <tbody>\n",
       "    <tr>\n",
       "      <th>0</th>\n",
       "      <td>1</td>\n",
       "      <td>0</td>\n",
       "      <td>0.25</td>\n",
       "      <td>0.090909</td>\n",
       "      <td>21</td>\n",
       "      <td>False</td>\n",
       "      <td>10</td>\n",
       "      <td>1</td>\n",
       "      <td>1</td>\n",
       "      <td>13</td>\n",
       "    </tr>\n",
       "    <tr>\n",
       "      <th>1</th>\n",
       "      <td>2</td>\n",
       "      <td>0</td>\n",
       "      <td>0.00</td>\n",
       "      <td>0.090909</td>\n",
       "      <td>20</td>\n",
       "      <td>False</td>\n",
       "      <td>10</td>\n",
       "      <td>1</td>\n",
       "      <td>1</td>\n",
       "      <td>19</td>\n",
       "    </tr>\n",
       "    <tr>\n",
       "      <th>2</th>\n",
       "      <td>3</td>\n",
       "      <td>-1</td>\n",
       "      <td>0.25</td>\n",
       "      <td>0.181818</td>\n",
       "      <td>20</td>\n",
       "      <td>False</td>\n",
       "      <td>10</td>\n",
       "      <td>1</td>\n",
       "      <td>1</td>\n",
       "      <td>3</td>\n",
       "    </tr>\n",
       "    <tr>\n",
       "      <th>3</th>\n",
       "      <td>4</td>\n",
       "      <td>-1</td>\n",
       "      <td>0.00</td>\n",
       "      <td>0.181818</td>\n",
       "      <td>21</td>\n",
       "      <td>False</td>\n",
       "      <td>10</td>\n",
       "      <td>1</td>\n",
       "      <td>1</td>\n",
       "      <td>11</td>\n",
       "    </tr>\n",
       "    <tr>\n",
       "      <th>4</th>\n",
       "      <td>5</td>\n",
       "      <td>-1</td>\n",
       "      <td>0.00</td>\n",
       "      <td>0.090909</td>\n",
       "      <td>21</td>\n",
       "      <td>False</td>\n",
       "      <td>10</td>\n",
       "      <td>1</td>\n",
       "      <td>1</td>\n",
       "      <td>4</td>\n",
       "    </tr>\n",
       "  </tbody>\n",
       "</table>\n",
       "</div>"
      ],
      "text/plain": [
       "   station_order  arrival_delay  wind   weather  temperature  major_holiday  \\\n",
       "0              1              0  0.25  0.090909           21          False   \n",
       "1              2              0  0.00  0.090909           20          False   \n",
       "2              3             -1  0.25  0.181818           20          False   \n",
       "3              4             -1  0.00  0.181818           21          False   \n",
       "4              5             -1  0.00  0.090909           21          False   \n",
       "\n",
       "   mounth  dayofweek  hour_section  station_num  \n",
       "0      10          1             1           13  \n",
       "1      10          1             1           19  \n",
       "2      10          1             1            3  \n",
       "3      10          1             1           11  \n",
       "4      10          1             1            4  "
      ]
     },
     "execution_count": 22,
     "metadata": {},
     "output_type": "execute_result"
    }
   ],
   "source": [
    "df = pd.read_csv('temp.csv')\n",
    "df = df.drop(columns=['Unnamed: 0'])\n",
    "df.head()"
   ]
  },
  {
   "cell_type": "code",
   "execution_count": 41,
   "id": "4207fd40",
   "metadata": {},
   "outputs": [
    {
     "data": {
      "text/html": [
       "<div>\n",
       "<style scoped>\n",
       "    .dataframe tbody tr th:only-of-type {\n",
       "        vertical-align: middle;\n",
       "    }\n",
       "\n",
       "    .dataframe tbody tr th {\n",
       "        vertical-align: top;\n",
       "    }\n",
       "\n",
       "    .dataframe thead th {\n",
       "        text-align: right;\n",
       "    }\n",
       "</style>\n",
       "<table border=\"1\" class=\"dataframe\">\n",
       "  <thead>\n",
       "    <tr style=\"text-align: right;\">\n",
       "      <th></th>\n",
       "      <th>station_order</th>\n",
       "      <th>arrival_delay</th>\n",
       "      <th>wind</th>\n",
       "      <th>weather</th>\n",
       "      <th>temperature</th>\n",
       "      <th>major_holiday</th>\n",
       "      <th>mounth</th>\n",
       "      <th>dayofweek</th>\n",
       "      <th>hour_section</th>\n",
       "      <th>station_num</th>\n",
       "    </tr>\n",
       "  </thead>\n",
       "  <tbody>\n",
       "    <tr>\n",
       "      <th>0</th>\n",
       "      <td>-1.377611</td>\n",
       "      <td>-0.090008</td>\n",
       "      <td>0.926186</td>\n",
       "      <td>-0.199350</td>\n",
       "      <td>1.156941</td>\n",
       "      <td>-0.270117</td>\n",
       "      <td>0.301262</td>\n",
       "      <td>-1.009406</td>\n",
       "      <td>-1.420809</td>\n",
       "      <td>0.342703</td>\n",
       "    </tr>\n",
       "    <tr>\n",
       "      <th>1</th>\n",
       "      <td>-1.133024</td>\n",
       "      <td>-0.090008</td>\n",
       "      <td>-0.625599</td>\n",
       "      <td>-0.199350</td>\n",
       "      <td>1.013875</td>\n",
       "      <td>-0.270117</td>\n",
       "      <td>0.301262</td>\n",
       "      <td>-1.009406</td>\n",
       "      <td>-1.420809</td>\n",
       "      <td>1.248522</td>\n",
       "    </tr>\n",
       "    <tr>\n",
       "      <th>2</th>\n",
       "      <td>-0.888437</td>\n",
       "      <td>-0.105192</td>\n",
       "      <td>0.926186</td>\n",
       "      <td>0.393631</td>\n",
       "      <td>1.013875</td>\n",
       "      <td>-0.270117</td>\n",
       "      <td>0.301262</td>\n",
       "      <td>-1.009406</td>\n",
       "      <td>-1.420809</td>\n",
       "      <td>-1.166994</td>\n",
       "    </tr>\n",
       "    <tr>\n",
       "      <th>3</th>\n",
       "      <td>-0.643850</td>\n",
       "      <td>-0.105192</td>\n",
       "      <td>-0.625599</td>\n",
       "      <td>0.393631</td>\n",
       "      <td>1.156941</td>\n",
       "      <td>-0.270117</td>\n",
       "      <td>0.301262</td>\n",
       "      <td>-1.009406</td>\n",
       "      <td>-1.420809</td>\n",
       "      <td>0.040764</td>\n",
       "    </tr>\n",
       "    <tr>\n",
       "      <th>4</th>\n",
       "      <td>-0.399263</td>\n",
       "      <td>-0.105192</td>\n",
       "      <td>-0.625599</td>\n",
       "      <td>-0.199350</td>\n",
       "      <td>1.156941</td>\n",
       "      <td>-0.270117</td>\n",
       "      <td>0.301262</td>\n",
       "      <td>-1.009406</td>\n",
       "      <td>-1.420809</td>\n",
       "      <td>-1.016024</td>\n",
       "    </tr>\n",
       "  </tbody>\n",
       "</table>\n",
       "</div>"
      ],
      "text/plain": [
       "   station_order  arrival_delay      wind   weather  temperature  \\\n",
       "0      -1.377611      -0.090008  0.926186 -0.199350     1.156941   \n",
       "1      -1.133024      -0.090008 -0.625599 -0.199350     1.013875   \n",
       "2      -0.888437      -0.105192  0.926186  0.393631     1.013875   \n",
       "3      -0.643850      -0.105192 -0.625599  0.393631     1.156941   \n",
       "4      -0.399263      -0.105192 -0.625599 -0.199350     1.156941   \n",
       "\n",
       "   major_holiday    mounth  dayofweek  hour_section  station_num  \n",
       "0      -0.270117  0.301262  -1.009406     -1.420809     0.342703  \n",
       "1      -0.270117  0.301262  -1.009406     -1.420809     1.248522  \n",
       "2      -0.270117  0.301262  -1.009406     -1.420809    -1.166994  \n",
       "3      -0.270117  0.301262  -1.009406     -1.420809     0.040764  \n",
       "4      -0.270117  0.301262  -1.009406     -1.420809    -1.016024  "
      ]
     },
     "execution_count": 41,
     "metadata": {},
     "output_type": "execute_result"
    }
   ],
   "source": [
    "scaler = StandardScaler()\n",
    "scaler.fit(df)\n",
    "# scaler.fit(X)\n",
    "std_X = scaler.transform(df)\n",
    "# std_X = scaler.transform(X)\n",
    "df=pd.DataFrame(std_X,columns=df.columns)\n",
    "# X=pd.DataFrame(std_X,columns=X.columns)\n",
    "df.head()\n",
    "# X.head()"
   ]
  },
  {
   "cell_type": "code",
   "execution_count": 42,
   "id": "e23df55c",
   "metadata": {},
   "outputs": [],
   "source": [
    "Y=df['arrival_delay']\n",
    "X=df.drop(columns=['arrival_delay'])"
   ]
  },
  {
   "cell_type": "markdown",
   "id": "7bd698fe",
   "metadata": {},
   "source": [
    "<hr>"
   ]
  },
  {
   "cell_type": "code",
   "execution_count": 43,
   "id": "0c49a230",
   "metadata": {},
   "outputs": [
    {
     "name": "stdout",
     "output_type": "stream",
     "text": [
      "33627 16563\n"
     ]
    }
   ],
   "source": [
    "from sklearn.model_selection import train_test_split\n",
    "\n",
    "\n",
    "X_train, X_test, y_train, y_test = train_test_split( X, Y, test_size=0.33, random_state=2022)\n",
    "print(len(X_train),len(X_test))"
   ]
  },
  {
   "cell_type": "code",
   "execution_count": 44,
   "id": "cb86af00",
   "metadata": {},
   "outputs": [
    {
     "data": {
      "text/plain": [
       "(33627,)"
      ]
     },
     "execution_count": 44,
     "metadata": {},
     "output_type": "execute_result"
    }
   ],
   "source": [
    "y_train.shape"
   ]
  },
  {
   "cell_type": "code",
   "execution_count": 45,
   "id": "b8dbcdcc",
   "metadata": {},
   "outputs": [
    {
     "data": {
      "text/plain": [
       "(33627, 9)"
      ]
     },
     "execution_count": 45,
     "metadata": {},
     "output_type": "execute_result"
    }
   ],
   "source": [
    "X_train.shape"
   ]
  },
  {
   "cell_type": "code",
   "execution_count": 46,
   "id": "7ca60bf7",
   "metadata": {},
   "outputs": [
    {
     "data": {
      "text/plain": [
       "count    33627.000000\n",
       "mean         0.005288\n",
       "std          1.016802\n",
       "min         -8.532144\n",
       "25%         -0.105192\n",
       "50%         -0.090008\n",
       "75%         -0.090008\n",
       "max         12.254338\n",
       "Name: arrival_delay, dtype: float64"
      ]
     },
     "execution_count": 46,
     "metadata": {},
     "output_type": "execute_result"
    }
   ],
   "source": [
    "y_train.describe()"
   ]
  },
  {
   "cell_type": "code",
   "execution_count": 47,
   "id": "b8726a5d",
   "metadata": {},
   "outputs": [
    {
     "data": {
      "text/html": [
       "<div>\n",
       "<style scoped>\n",
       "    .dataframe tbody tr th:only-of-type {\n",
       "        vertical-align: middle;\n",
       "    }\n",
       "\n",
       "    .dataframe tbody tr th {\n",
       "        vertical-align: top;\n",
       "    }\n",
       "\n",
       "    .dataframe thead th {\n",
       "        text-align: right;\n",
       "    }\n",
       "</style>\n",
       "<table border=\"1\" class=\"dataframe\">\n",
       "  <thead>\n",
       "    <tr style=\"text-align: right;\">\n",
       "      <th></th>\n",
       "      <th>station_order</th>\n",
       "      <th>wind</th>\n",
       "      <th>weather</th>\n",
       "      <th>temperature</th>\n",
       "      <th>major_holiday</th>\n",
       "      <th>mounth</th>\n",
       "      <th>dayofweek</th>\n",
       "      <th>hour_section</th>\n",
       "      <th>station_num</th>\n",
       "    </tr>\n",
       "  </thead>\n",
       "  <tbody>\n",
       "    <tr>\n",
       "      <th>38516</th>\n",
       "      <td>1.312846</td>\n",
       "      <td>-0.625599</td>\n",
       "      <td>-0.792331</td>\n",
       "      <td>-0.702920</td>\n",
       "      <td>3.702099</td>\n",
       "      <td>-1.774185</td>\n",
       "      <td>-0.512183</td>\n",
       "      <td>-0.029278</td>\n",
       "      <td>-1.166994</td>\n",
       "    </tr>\n",
       "    <tr>\n",
       "      <th>6475</th>\n",
       "      <td>-1.377611</td>\n",
       "      <td>0.926186</td>\n",
       "      <td>-0.199350</td>\n",
       "      <td>1.013875</td>\n",
       "      <td>-0.270117</td>\n",
       "      <td>0.762472</td>\n",
       "      <td>-1.506629</td>\n",
       "      <td>-1.420809</td>\n",
       "      <td>0.342703</td>\n",
       "    </tr>\n",
       "    <tr>\n",
       "      <th>46145</th>\n",
       "      <td>3.024955</td>\n",
       "      <td>-0.625599</td>\n",
       "      <td>-0.199350</td>\n",
       "      <td>0.584676</td>\n",
       "      <td>-0.270117</td>\n",
       "      <td>0.531867</td>\n",
       "      <td>-0.512183</td>\n",
       "      <td>-0.029278</td>\n",
       "      <td>-0.110206</td>\n",
       "    </tr>\n",
       "    <tr>\n",
       "      <th>25468</th>\n",
       "      <td>-1.133024</td>\n",
       "      <td>0.926186</td>\n",
       "      <td>-0.199350</td>\n",
       "      <td>0.012411</td>\n",
       "      <td>-0.270117</td>\n",
       "      <td>0.762472</td>\n",
       "      <td>1.476710</td>\n",
       "      <td>-0.029278</td>\n",
       "      <td>-0.261176</td>\n",
       "    </tr>\n",
       "    <tr>\n",
       "      <th>42662</th>\n",
       "      <td>-0.643850</td>\n",
       "      <td>-0.625599</td>\n",
       "      <td>-0.199350</td>\n",
       "      <td>1.443074</td>\n",
       "      <td>-0.270117</td>\n",
       "      <td>0.301262</td>\n",
       "      <td>-0.014959</td>\n",
       "      <td>1.362253</td>\n",
       "      <td>1.399492</td>\n",
       "    </tr>\n",
       "  </tbody>\n",
       "</table>\n",
       "</div>"
      ],
      "text/plain": [
       "       station_order      wind   weather  temperature  major_holiday  \\\n",
       "38516       1.312846 -0.625599 -0.792331    -0.702920       3.702099   \n",
       "6475       -1.377611  0.926186 -0.199350     1.013875      -0.270117   \n",
       "46145       3.024955 -0.625599 -0.199350     0.584676      -0.270117   \n",
       "25468      -1.133024  0.926186 -0.199350     0.012411      -0.270117   \n",
       "42662      -0.643850 -0.625599 -0.199350     1.443074      -0.270117   \n",
       "\n",
       "         mounth  dayofweek  hour_section  station_num  \n",
       "38516 -1.774185  -0.512183     -0.029278    -1.166994  \n",
       "6475   0.762472  -1.506629     -1.420809     0.342703  \n",
       "46145  0.531867  -0.512183     -0.029278    -0.110206  \n",
       "25468  0.762472   1.476710     -0.029278    -0.261176  \n",
       "42662  0.301262  -0.014959      1.362253     1.399492  "
      ]
     },
     "execution_count": 47,
     "metadata": {},
     "output_type": "execute_result"
    }
   ],
   "source": [
    "X_train.head()"
   ]
  },
  {
   "cell_type": "code",
   "execution_count": null,
   "id": "72e3e9a9",
   "metadata": {},
   "outputs": [],
   "source": []
  }
 ],
 "metadata": {
  "kernelspec": {
   "display_name": "Python 3 (ipykernel)",
   "language": "python",
   "name": "python3"
  },
  "language_info": {
   "codemirror_mode": {
    "name": "ipython",
    "version": 3
   },
   "file_extension": ".py",
   "mimetype": "text/x-python",
   "name": "python",
   "nbconvert_exporter": "python",
   "pygments_lexer": "ipython3",
   "version": "3.7.11"
  }
 },
 "nbformat": 4,
 "nbformat_minor": 5
}
